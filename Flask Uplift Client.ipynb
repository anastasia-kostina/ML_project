{
 "cells": [
  {
   "cell_type": "code",
   "execution_count": 1,
   "id": "fe399f95",
   "metadata": {},
   "outputs": [],
   "source": [
    "import pandas as pd\n",
    "import numpy as np\n",
    "import seaborn as sns\n",
    "import matplotlib\n",
    "import matplotlib.pyplot as plt\n",
    "\n",
    "from sklift.metrics import uplift_at_k\n",
    "from sklift.viz import plot_uplift_preds\n",
    "from sklift.models import SoloModel\n",
    "from sklift.models import TwoModels\n",
    "\n",
    "from sklearn.model_selection import GridSearchCV\n",
    "from sklearn.ensemble import GradientBoostingClassifier\n",
    "from sklift.datasets import fetch_lenta\n",
    "from sklearn.model_selection import train_test_split\n",
    "\n",
    "\n",
    "from sklearn.base import BaseEstimator, TransformerMixin\n",
    "from sklearn.pipeline import Pipeline, FeatureUnion, make_pipeline\n",
    "\n",
    "import dill\n",
    "from flask import Flask, request, jsonify"
   ]
  },
  {
   "cell_type": "code",
   "execution_count": 2,
   "id": "2dc0c3e7",
   "metadata": {},
   "outputs": [],
   "source": [
    "dill._dill._reverse_typemap['ClassType'] = type\n",
    "\n",
    "X_test = pd.read_csv(\"X_test.csv\")\n",
    "y_test = pd.read_csv(\"y_test.csv\")\n",
    "treat_test = pd.read_csv('treat_test.csv')"
   ]
  },
  {
   "cell_type": "code",
   "execution_count": 3,
   "id": "9ce9fbd6",
   "metadata": {},
   "outputs": [
    {
     "data": {
      "text/html": [
       "<div>\n",
       "<style scoped>\n",
       "    .dataframe tbody tr th:only-of-type {\n",
       "        vertical-align: middle;\n",
       "    }\n",
       "\n",
       "    .dataframe tbody tr th {\n",
       "        vertical-align: top;\n",
       "    }\n",
       "\n",
       "    .dataframe thead th {\n",
       "        text-align: right;\n",
       "    }\n",
       "</style>\n",
       "<table border=\"1\" class=\"dataframe\">\n",
       "  <thead>\n",
       "    <tr style=\"text-align: right;\">\n",
       "      <th></th>\n",
       "      <th>gender</th>\n",
       "      <th>age</th>\n",
       "      <th>main_format</th>\n",
       "      <th>children</th>\n",
       "      <th>crazy_purchases_goods_count_6m</th>\n",
       "      <th>k_var_cheque_group_width_15d</th>\n",
       "      <th>promo_share_15d</th>\n",
       "    </tr>\n",
       "  </thead>\n",
       "  <tbody>\n",
       "    <tr>\n",
       "      <th>0</th>\n",
       "      <td>Ж</td>\n",
       "      <td>44.0</td>\n",
       "      <td>0</td>\n",
       "      <td>1.0</td>\n",
       "      <td>0.0</td>\n",
       "      <td>NaN</td>\n",
       "      <td>0.3727</td>\n",
       "    </tr>\n",
       "    <tr>\n",
       "      <th>1</th>\n",
       "      <td>Ж</td>\n",
       "      <td>56.0</td>\n",
       "      <td>0</td>\n",
       "      <td>2.0</td>\n",
       "      <td>2.0</td>\n",
       "      <td>0.0000</td>\n",
       "      <td>0.0000</td>\n",
       "    </tr>\n",
       "    <tr>\n",
       "      <th>2</th>\n",
       "      <td>Ж</td>\n",
       "      <td>41.0</td>\n",
       "      <td>0</td>\n",
       "      <td>0.0</td>\n",
       "      <td>0.0</td>\n",
       "      <td>0.0000</td>\n",
       "      <td>0.0000</td>\n",
       "    </tr>\n",
       "    <tr>\n",
       "      <th>3</th>\n",
       "      <td>М</td>\n",
       "      <td>27.0</td>\n",
       "      <td>0</td>\n",
       "      <td>0.0</td>\n",
       "      <td>0.0</td>\n",
       "      <td>0.6600</td>\n",
       "      <td>0.5260</td>\n",
       "    </tr>\n",
       "    <tr>\n",
       "      <th>4</th>\n",
       "      <td>Ж</td>\n",
       "      <td>29.0</td>\n",
       "      <td>0</td>\n",
       "      <td>0.0</td>\n",
       "      <td>2.0</td>\n",
       "      <td>0.3111</td>\n",
       "      <td>0.5533</td>\n",
       "    </tr>\n",
       "  </tbody>\n",
       "</table>\n",
       "</div>"
      ],
      "text/plain": [
       "  gender   age  main_format  children  crazy_purchases_goods_count_6m  \\\n",
       "0      Ж  44.0            0       1.0                             0.0   \n",
       "1      Ж  56.0            0       2.0                             2.0   \n",
       "2      Ж  41.0            0       0.0                             0.0   \n",
       "3      М  27.0            0       0.0                             0.0   \n",
       "4      Ж  29.0            0       0.0                             2.0   \n",
       "\n",
       "   k_var_cheque_group_width_15d  promo_share_15d  \n",
       "0                           NaN           0.3727  \n",
       "1                        0.0000           0.0000  \n",
       "2                        0.0000           0.0000  \n",
       "3                        0.6600           0.5260  \n",
       "4                        0.3111           0.5533  "
      ]
     },
     "execution_count": 3,
     "metadata": {},
     "output_type": "execute_result"
    }
   ],
   "source": [
    "X_test.head()"
   ]
  },
  {
   "cell_type": "code",
   "execution_count": 4,
   "id": "043d811f",
   "metadata": {},
   "outputs": [
    {
     "name": "stdout",
     "output_type": "stream",
     "text": [
      "<class 'pandas.core.frame.DataFrame'>\n",
      "RangeIndex: 226720 entries, 0 to 226719\n",
      "Data columns (total 7 columns):\n",
      " #   Column                          Non-Null Count   Dtype  \n",
      "---  ------                          --------------   -----  \n",
      " 0   gender                          223831 non-null  object \n",
      " 1   age                             222793 non-null  float64\n",
      " 2   main_format                     226720 non-null  int64  \n",
      " 3   children                        223831 non-null  float64\n",
      " 4   crazy_purchases_goods_count_6m  226719 non-null  float64\n",
      " 5   k_var_cheque_group_width_15d    181586 non-null  float64\n",
      " 6   promo_share_15d                 226720 non-null  float64\n",
      "dtypes: float64(5), int64(1), object(1)\n",
      "memory usage: 12.1+ MB\n"
     ]
    }
   ],
   "source": [
    "X_test.info()"
   ]
  },
  {
   "cell_type": "code",
   "execution_count": 5,
   "id": "393b3a6b",
   "metadata": {},
   "outputs": [],
   "source": [
    "import requests\n",
    "\n",
    "import urllib.request\n",
    "import json      \n",
    "\n",
    "\n",
    "def send_json(x):\n",
    "    gender, age, main_format, children, crazy_purchases_goods_count_6m, k_var_cheque_group_width_15d, promo_share_15d  = x\n",
    "    \n",
    "    body = {'gender': gender, \n",
    "            'age': age, \n",
    "            'main_format': int(main_format), \n",
    "            'children': children, \n",
    "            'crazy_purchases_goods_count_6m': crazy_purchases_goods_count_6m, \n",
    "            'k_var_cheque_group_width_15d': k_var_cheque_group_width_15d,\n",
    "            'promo_share_15d': promo_share_15d\n",
    "            } \n",
    "\n",
    "    myurl = \"http://127.0.0.1:5000\" + \"/predict\"\n",
    "    headers = {'content-type': 'application/json; charset=utf-8'}\n",
    "    response = requests.post(myurl, json=body, headers=headers)\n",
    "\n",
    "    return response.json()['predictions']"
   ]
  },
  {
   "cell_type": "code",
   "execution_count": 6,
   "id": "a9d94c04",
   "metadata": {},
   "outputs": [
    {
     "data": {
      "text/plain": [
       "0.0030528900486946065"
      ]
     },
     "execution_count": 6,
     "metadata": {},
     "output_type": "execute_result"
    }
   ],
   "source": [
    "response = send_json(X_test.iloc[0,:])\n",
    "\n",
    "response"
   ]
  },
  {
   "cell_type": "code",
   "execution_count": 9,
   "id": "04ce076c",
   "metadata": {},
   "outputs": [
    {
     "data": {
      "text/plain": [
       "(226720, 7)"
      ]
     },
     "execution_count": 9,
     "metadata": {},
     "output_type": "execute_result"
    }
   ],
   "source": [
    "X_test.shape"
   ]
  },
  {
   "cell_type": "code",
   "execution_count": 11,
   "id": "eb767c42",
   "metadata": {},
   "outputs": [],
   "source": [
    "N = 1000\n",
    "predictions = X_test.iloc[:N].apply(lambda x: send_json(x), 1)"
   ]
  },
  {
   "cell_type": "code",
   "execution_count": 13,
   "id": "a736f047",
   "metadata": {},
   "outputs": [
    {
     "name": "stdout",
     "output_type": "stream",
     "text": [
      "uplift@30%: 0.0291\n"
     ]
    }
   ],
   "source": [
    "sm_30 = uplift_at_k(y_test.iloc[:N], predictions, treat_test.iloc[:N], strategy='by_group')\n",
    "print(f'uplift@30%: {sm_30:.4f}')"
   ]
  },
  {
   "cell_type": "code",
   "execution_count": null,
   "id": "c560fcde",
   "metadata": {},
   "outputs": [],
   "source": []
  }
 ],
 "metadata": {
  "kernelspec": {
   "display_name": "Python 3",
   "language": "python",
   "name": "python3"
  },
  "language_info": {
   "codemirror_mode": {
    "name": "ipython",
    "version": 3
   },
   "file_extension": ".py",
   "mimetype": "text/x-python",
   "name": "python",
   "nbconvert_exporter": "python",
   "pygments_lexer": "ipython3",
   "version": "3.8.8"
  }
 },
 "nbformat": 4,
 "nbformat_minor": 5
}
